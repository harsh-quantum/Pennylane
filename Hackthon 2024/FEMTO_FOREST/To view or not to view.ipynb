{
 "cells": [
  {
   "cell_type": "markdown",
   "id": "ccde0ffb",
   "metadata": {},
   "source": [
    "![1](images/FEMTO_FOREST_100_1.png)\n",
    "    \n",
    "![2](images/FEMTO_FOREST_100_2.png)\n",
    "\n",
    "![3](images/FEMTO_FOREST_100_3.png)\n",
    "    \n",
    "<!-- ![4](images/FEMTO FOREST_100_4.png) -->"
   ]
  },
  {
   "cell_type": "code",
   "execution_count": 1,
   "id": "079c5664",
   "metadata": {},
   "outputs": [],
   "source": [
    "import json\n",
    "import pennylane as qml\n",
    "import pennylane.numpy as np\n",
    "\n",
    "dev = qml.device('default.qubit', wires = [0,1,2])\n",
    "\n",
    "@qml.qnode(dev)\n",
    "def or_circuit(state):\n",
    "\n",
    "    \"\"\"\n",
    "    Applies an OR gate to the first and second qubits.\n",
    "    \n",
    "    Args:\n",
    "        - state (np.array(int)): An array of the form [a,b,0] representing the input qubit |a>|b>|0>.\n",
    "    Returns:\n",
    "        - (np.tensor): The output state of the circuit as returned by qml.state().\n",
    "    \n",
    "    \"\"\"\n",
    "    \n",
    "    qml.BasisState(state, wires =[0,1,2])\n",
    "\n",
    "    # Put your code here\n",
    "    # if state[0] == 1:\n",
    "    #     qml.PauliX(0)\n",
    "    # if state[1] == 1:\n",
    "    #     qml.PauliX(1)\n",
    "    qml.PauliX(0)\n",
    "    qml.PauliX(1)\n",
    "    qml.PauliX(2)\n",
    "    qml.Toffoli([0,1,2])\n",
    "    qml.PauliX(0)\n",
    "    qml.PauliX(1)\n",
    "    # Return the state\n",
    "    return qml.state()\n",
    "    return qml.state()\n",
    "\n",
    "# These functions are responsible for testing the solution.\n",
    "\n",
    "def run(test_case_input: str) -> str:\n",
    "    ins = json.loads(test_case_input)\n",
    "    state = np.real(or_circuit(ins))\n",
    "    \n",
    "    bin_string = bin(np.sum([int((state[i]*i).numpy()) for i in range(len(state))]))[2:].zfill(3)\n",
    "\n",
    "    return str([int(elem) for elem in bin_string])\n",
    "\n",
    "def check(solution_output: str, expected_output: str) -> None:\n",
    "    solution_output = json.loads(solution_output)\n",
    "    expected_output = json.loads(expected_output)\n",
    "    \n",
    "    u = or_circuit([0,0,0])\n",
    "    tape = or_circuit.qtape\n",
    "    names = [op.name for op in tape.operations]\n",
    "\n",
    "    assert names.count('BasisState') == 1, \"You can't use BasisState, only the one in the template is allowed\"\n",
    "     \n",
    "    for op in or_circuit.tape.operations:\n",
    "        (isinstance(op, qml.BasisState) or isinstance(op, qml.Toffoli) or isinstance(op, qml.PauliX)), \"You can only use Toffoli and PauliX gates\"\n",
    "\n",
    "    assert np.allclose(solution_output,expected_output, rtol = 1e-4), \"Not the right output state\"\n"
   ]
  },
  {
   "cell_type": "code",
   "execution_count": null,
   "id": "cf79937d",
   "metadata": {},
   "outputs": [],
   "source": []
  }
 ],
 "metadata": {
  "kernelspec": {
   "display_name": "Python 3 (ipykernel)",
   "language": "python",
   "name": "python3"
  },
  "language_info": {
   "codemirror_mode": {
    "name": "ipython",
    "version": 3
   },
   "file_extension": ".py",
   "mimetype": "text/x-python",
   "name": "python",
   "nbconvert_exporter": "python",
   "pygments_lexer": "ipython3",
   "version": "3.11.5"
  }
 },
 "nbformat": 4,
 "nbformat_minor": 5
}

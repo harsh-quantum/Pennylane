{
 "cells": [
  {
   "cell_type": "markdown",
   "id": "84d3c069",
   "metadata": {},
   "source": [
    "![1](images/FEMTO_FOREST_300_1.png)\n",
    "    \n",
    "![2](images/FEMTO_FOREST_300_2.png)\n",
    "\n",
    "![3](images/FEMTO_FOREST_300_3.png)\n",
    "    \n",
    "![4](images/FEMTO_FOREST_300_4.png)"
   ]
  },
  {
   "cell_type": "code",
   "execution_count": 1,
   "id": "b71b3972",
   "metadata": {},
   "outputs": [],
   "source": [
    "import json\n",
    "import pennylane as qml\n",
    "import pennylane.numpy as np\n",
    "\n",
    "\n",
    "def beam_splitter(r):\n",
    "    \"\"\"\n",
    "    Returns the beam splitter matrix.\n",
    "\n",
    "    Args:\n",
    "        - r (float): The reflection coefficient of the beam splitter.\n",
    "    Returns:\n",
    "        - (np.array): 2 x 2 matrix that represents the beam\n",
    "        splitter matrix.    \n",
    "    \"\"\"\n",
    "\n",
    "    # Put your code here\n",
    "    return np.array([[r, np.sqrt(1-(r**2))],[np.sqrt(1-(r**2)), -r]])\n",
    "dev = qml.device('default.qubit')\n",
    "\n",
    "@qml.qnode(dev)\n",
    "def mz_interferometer(r):\n",
    "    \"\"\"\n",
    "    This QNode returns the probability that either A or C\n",
    "    detect a photon, and the probability that D detects a photon.\n",
    "    \n",
    "    Args:\n",
    "        - r (float): The reflection coefficient of the beam splitters.\n",
    "    Returns: \n",
    "        - np.array(float): An array of shape (2,), where the first \n",
    "        element is the probability of detection at A or C,\n",
    "        and the second element is the probability of detection at D.\n",
    "    \"\"\"\n",
    "\n",
    "    # Put your code here\n",
    "    qml.QubitUnitary(beam_splitter(r), 0)\n",
    "    m = qml.measure(0)\n",
    "    qml.cond(m, qml.QubitUnitary)(beam_splitter(r), 0)\n",
    "    return qml.probs([0])\n",
    "\n",
    "# These functions are responsible for testing the solution.\n",
    "\n",
    "\n",
    "def run(test_case_input: str) -> str:\n",
    "    ins = json.loads(test_case_input)\n",
    "    outs = mz_interferometer(ins).tolist()\n",
    "    \n",
    "    return str(outs)\n",
    "\n",
    "\n",
    "def check(solution_output: str, expected_output: str) -> None:\n",
    "    solution_output = json.loads(solution_output)\n",
    "    expected_output = json.loads(expected_output)\n",
    "    assert np.allclose(solution_output,expected_output), \"Not the correct probabilities\"\n"
   ]
  },
  {
   "cell_type": "code",
   "execution_count": null,
   "id": "97a39a33",
   "metadata": {},
   "outputs": [],
   "source": []
  }
 ],
 "metadata": {
  "kernelspec": {
   "display_name": "Python 3 (ipykernel)",
   "language": "python",
   "name": "python3"
  },
  "language_info": {
   "codemirror_mode": {
    "name": "ipython",
    "version": 3
   },
   "file_extension": ".py",
   "mimetype": "text/x-python",
   "name": "python",
   "nbconvert_exporter": "python",
   "pygments_lexer": "ipython3",
   "version": "3.11.5"
  }
 },
 "nbformat": 4,
 "nbformat_minor": 5
}
